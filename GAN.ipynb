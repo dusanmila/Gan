{
  "nbformat": 4,
  "nbformat_minor": 0,
  "metadata": {
    "colab": {
      "name": "GAN.ipynb",
      "provenance": [],
      "collapsed_sections": [],
      "toc_visible": true
    },
    "kernelspec": {
      "name": "python3",
      "display_name": "Python 3"
    },
    "language_info": {
      "name": "python"
    }
  },
  "cells": [
    {
      "cell_type": "markdown",
      "metadata": {
        "id": "7uJUgmmuSp-m"
      },
      "source": [
        "**GAN** se sastoji od **generatora** **i** **diskriminatora**. Nakon obuke, generator je robot  koji generiše fotografije pasa. Tokom treninga diskriminator uči generator kako da nacrta psa. (I obično G uči D-a da prikriva stvarne od lažnih pasa). Generator nikada ne vidi slike pasa."
      ]
    },
    {
      "cell_type": "code",
      "metadata": {
        "colab": {
          "base_uri": "https://localhost:8080/"
        },
        "id": "zm8Hod_Bg-bc",
        "outputId": "2b25eef7-f133-4991-a30c-82f6e0c47c36"
      },
      "source": [
        "!wget --load-cookies /tmp/cookies.txt \"https://docs.google.com/uc?export=download&confirm=$(wget --quiet --save-cookies /tmp/cookies.txt --keep-session-cookies --no-check-certificate 'https://docs.google.com/uc?export=download&id=1tKOTjbtdxS-pzw80JHN-2FUiZA7htL7p' -O- | sed -rn 's/.*confirm=([0-9A-Za-z_]+).*/\\1\\n/p')&id=1tKOTjbtdxS-pzw80JHN-2FUiZA7htL7p\" -O images.zip && rm -rf /tmp/cookies.txt"
      ],
      "execution_count": null,
      "outputs": [
        {
          "output_type": "stream",
          "text": [
            "--2021-08-29 20:07:26--  https://docs.google.com/uc?export=download&confirm=rdy0&id=1tKOTjbtdxS-pzw80JHN-2FUiZA7htL7p\n",
            "Resolving docs.google.com (docs.google.com)... 64.233.189.139, 64.233.189.113, 64.233.189.100, ...\n",
            "Connecting to docs.google.com (docs.google.com)|64.233.189.139|:443... connected.\n",
            "HTTP request sent, awaiting response... 302 Moved Temporarily\n",
            "Location: https://doc-04-18-docs.googleusercontent.com/docs/securesc/gu9ql3gi4tk6a5rev1l80ncsdao1udm3/3ep7ssrhta5ovpmr18jeg5rloirj6fft/1630267575000/06049624160957438625/07039360909180977829Z/1tKOTjbtdxS-pzw80JHN-2FUiZA7htL7p?e=download [following]\n",
            "--2021-08-29 20:07:26--  https://doc-04-18-docs.googleusercontent.com/docs/securesc/gu9ql3gi4tk6a5rev1l80ncsdao1udm3/3ep7ssrhta5ovpmr18jeg5rloirj6fft/1630267575000/06049624160957438625/07039360909180977829Z/1tKOTjbtdxS-pzw80JHN-2FUiZA7htL7p?e=download\n",
            "Resolving doc-04-18-docs.googleusercontent.com (doc-04-18-docs.googleusercontent.com)... 74.125.203.132, 2404:6800:4008:c03::84\n",
            "Connecting to doc-04-18-docs.googleusercontent.com (doc-04-18-docs.googleusercontent.com)|74.125.203.132|:443... connected.\n",
            "HTTP request sent, awaiting response... 302 Found\n",
            "Location: https://docs.google.com/nonceSigner?nonce=4ohdirmcbvfqc&continue=https://doc-04-18-docs.googleusercontent.com/docs/securesc/gu9ql3gi4tk6a5rev1l80ncsdao1udm3/3ep7ssrhta5ovpmr18jeg5rloirj6fft/1630267575000/06049624160957438625/07039360909180977829Z/1tKOTjbtdxS-pzw80JHN-2FUiZA7htL7p?e%3Ddownload&hash=ehktt5r84f0kvln5dfqslcse5gv709b5 [following]\n",
            "--2021-08-29 20:07:26--  https://docs.google.com/nonceSigner?nonce=4ohdirmcbvfqc&continue=https://doc-04-18-docs.googleusercontent.com/docs/securesc/gu9ql3gi4tk6a5rev1l80ncsdao1udm3/3ep7ssrhta5ovpmr18jeg5rloirj6fft/1630267575000/06049624160957438625/07039360909180977829Z/1tKOTjbtdxS-pzw80JHN-2FUiZA7htL7p?e%3Ddownload&hash=ehktt5r84f0kvln5dfqslcse5gv709b5\n",
            "Connecting to docs.google.com (docs.google.com)|64.233.189.139|:443... connected.\n",
            "HTTP request sent, awaiting response... 302 Found\n",
            "Location: https://doc-04-18-docs.googleusercontent.com/docs/securesc/gu9ql3gi4tk6a5rev1l80ncsdao1udm3/3ep7ssrhta5ovpmr18jeg5rloirj6fft/1630267575000/06049624160957438625/07039360909180977829Z/1tKOTjbtdxS-pzw80JHN-2FUiZA7htL7p?e=download&nonce=4ohdirmcbvfqc&user=07039360909180977829Z&hash=v4qipv89td9gdmlo1femi2de6mipk1ct [following]\n",
            "--2021-08-29 20:07:27--  https://doc-04-18-docs.googleusercontent.com/docs/securesc/gu9ql3gi4tk6a5rev1l80ncsdao1udm3/3ep7ssrhta5ovpmr18jeg5rloirj6fft/1630267575000/06049624160957438625/07039360909180977829Z/1tKOTjbtdxS-pzw80JHN-2FUiZA7htL7p?e=download&nonce=4ohdirmcbvfqc&user=07039360909180977829Z&hash=v4qipv89td9gdmlo1femi2de6mipk1ct\n",
            "Connecting to doc-04-18-docs.googleusercontent.com (doc-04-18-docs.googleusercontent.com)|74.125.203.132|:443... connected.\n",
            "HTTP request sent, awaiting response... 200 OK\n",
            "Length: unspecified [application/x-zip-compressed]\n",
            "Saving to: ‘images.zip’\n",
            "\n",
            "images.zip              [                 <=>] 743.54M  66.3MB/s    in 12s     \n",
            "\n",
            "2021-08-29 20:07:40 (61.2 MB/s) - ‘images.zip’ saved [779657414]\n",
            "\n"
          ],
          "name": "stdout"
        }
      ]
    },
    {
      "cell_type": "markdown",
      "metadata": {
        "id": "1PZNAgtjPu6_"
      },
      "source": [
        "Unzipovanje fotografija iz all-dogs.zip"
      ]
    },
    {
      "cell_type": "code",
      "metadata": {
        "id": "F4h7kmBXzcxq"
      },
      "source": [
        "!unzip /content/drive/MyDrive/all-dogs.zip"
      ],
      "execution_count": null,
      "outputs": []
    },
    {
      "cell_type": "markdown",
      "metadata": {
        "id": "LFsxYvfCQBAK"
      },
      "source": [
        "Unzipovanje anotacija:"
      ]
    },
    {
      "cell_type": "code",
      "metadata": {
        "id": "c76kvfIL1vWm"
      },
      "source": [
        "!unzip /content/drive/MyDrive/Annotation.zip"
      ],
      "execution_count": null,
      "outputs": []
    },
    {
      "cell_type": "markdown",
      "metadata": {
        "id": "90p6GoA5QFer"
      },
      "source": [
        "Ucitavanje i postavljanje fotografija na fiksnu veličinu, kao i sam prikaz istih:"
      ]
    },
    {
      "cell_type": "code",
      "metadata": {
        "id": "BbyV-V1B2otV"
      },
      "source": [
        "ComputeLB = True\n",
        "DogsOnly = True\n",
        "\n",
        "import numpy as np, pandas as pd, os\n",
        "import xml.etree.ElementTree as ET \n",
        "import matplotlib.pyplot as plt, zipfile \n",
        "from PIL import Image \n",
        "\n",
        "ROOT = '/content/input/'\n",
        "if not ComputeLB: ROOT = '../content/'\n",
        "IMAGES = os.listdir(ROOT + 'all-dogs/')\n",
        "breeds = os.listdir(ROOT + 'Annotation/') \n",
        "\n",
        "idxIn = 0; namesIn = []\n",
        "imagesIn = np.zeros((25000,64,64,3))\n",
        "\n",
        "# CROP WITH BOUNDING BOXES TO GET DOGS ONLY\n",
        "# https://www.kaggle.com/paulorzp/show-annotations-and-breeds\n",
        "if DogsOnly:\n",
        "    for breed in breeds:\n",
        "        for dog in os.listdir(ROOT+'Annotation/'+breed):\n",
        "            try: img = Image.open(ROOT+'all-dogs/'+dog+'.jpg') \n",
        "            except: continue           \n",
        "            tree = ET.parse(ROOT+'Annotation/'+breed+'/'+dog)\n",
        "            root = tree.getroot()\n",
        "            objects = root.findall('object')\n",
        "            for o in objects:\n",
        "                bndbox = o.find('bndbox') \n",
        "                xmin = int(bndbox.find('xmin').text)\n",
        "                ymin = int(bndbox.find('ymin').text)\n",
        "                xmax = int(bndbox.find('xmax').text)\n",
        "                ymax = int(bndbox.find('ymax').text)\n",
        "                w = np.min((xmax - xmin, ymax - ymin))\n",
        "                img2 = img.crop((xmin, ymin, xmin+w, ymin+w))\n",
        "                img2 = img2.resize((64,64), Image.ANTIALIAS)\n",
        "                imagesIn[idxIn,:,:,:] = np.asarray(img2)\n",
        "                #if idxIn%1000==0: print(idxIn)\n",
        "                namesIn.append(breed)\n",
        "                idxIn += 1\n",
        "    idx = np.arange(idxIn)\n",
        "    np.random.shuffle(idx)\n",
        "    imagesIn = imagesIn[idx,:,:,:]\n",
        "    namesIn = np.array(namesIn)[idx]\n",
        "    \n",
        "# RANDOMLY CROP FULL IMAGES\n",
        "else:\n",
        "    x = np.random.choice(np.arange(20579),10000)\n",
        "    for k in range(len(x)):\n",
        "        img = Image.open(ROOT + 'all-dogs/' + IMAGES[x[k]])\n",
        "        w = img.size[0]\n",
        "        h = img.size[1]\n",
        "        sz = np.min((w,h))\n",
        "        a=0; b=0\n",
        "        if w<h: b = (h-sz)//2\n",
        "        else: a = (w-sz)//2\n",
        "        img = img.crop((0+a, 0+b, sz+a, sz+b))  \n",
        "        img = img.resize((64,64), Image.ANTIALIAS)   \n",
        "        imagesIn[idxIn,:,:,:] = np.asarray(img)\n",
        "        namesIn.append(IMAGES[x[k]])\n",
        "        if idxIn%1000==0: print(idxIn)\n",
        "        idxIn += 1\n",
        "    \n",
        "# DISPLAY CROPPED IMAGES\n",
        "x = np.random.randint(0,idxIn,25)\n",
        "for k in range(5):\n",
        "    plt.figure(figsize=(15,3))\n",
        "    for j in range(5):\n",
        "        plt.subplot(1,5,j+1)\n",
        "        img = Image.fromarray( imagesIn[x[k*5+j],:,:,:].astype('uint8') )\n",
        "        plt.axis('off')\n",
        "        if not DogsOnly: plt.title(namesIn[x[k*5+j]],fontsize=11)\n",
        "        else: plt.title(namesIn[x[k*5+j]].split('-')[1],fontsize=11)\n",
        "        plt.imshow(img)\n",
        "    plt.show()"
      ],
      "execution_count": null,
      "outputs": []
    },
    {
      "cell_type": "markdown",
      "metadata": {
        "id": "Jn6GIJueQWjX"
      },
      "source": [
        "Importovnje neophodnih biblioteka:\n",
        "\n",
        "\n"
      ]
    },
    {
      "cell_type": "code",
      "metadata": {
        "id": "lw1-kYo-3JKg"
      },
      "source": [
        "from keras.models import Model\n",
        "from keras.layers import Input, Dense, Conv2D, Reshape, Flatten, concatenate, UpSampling2D\n",
        "from keras.preprocessing.image import ImageDataGenerator\n",
        "from keras.callbacks import LearningRateScheduler\n",
        "from keras.optimizers import SGD, Adam"
      ],
      "execution_count": null,
      "outputs": []
    },
    {
      "cell_type": "markdown",
      "metadata": {
        "id": "ecxYPuujQdDy"
      },
      "source": [
        "*Kreiranje* diskriminante:"
      ]
    },
    {
      "cell_type": "code",
      "metadata": {
        "colab": {
          "base_uri": "https://localhost:8080/"
        },
        "id": "z5MycEGF3R5r",
        "outputId": "0f566c2b-84dc-4fb8-b329-8e3293cb8b55"
      },
      "source": [
        "# BUILD DISCRIMINATIVE NETWORK\n",
        "dog = Input((12288,))\n",
        "dogName = Input((10000,))\n",
        "x = Dense(12288, activation='sigmoid')(dogName) \n",
        "x = Reshape((2,12288,1))(concatenate([dog,x]))\n",
        "x = Conv2D(1,(2,1),use_bias=False,name='conv')(x)\n",
        "discriminated = Flatten()(x)\n",
        "\n",
        "# COMPILE\n",
        "discriminator = Model([dog,dogName], discriminated)\n",
        "discriminator.get_layer('conv').trainable = False\n",
        "discriminator.get_layer('conv').set_weights([np.array([[[[-1.0 ]]],[[[1.0]]]])])\n",
        "discriminator.compile(optimizer='adam', loss='binary_crossentropy')\n",
        "\n",
        "# DISPLAY ARCHITECTURE\n",
        "discriminator.summary()"
      ],
      "execution_count": null,
      "outputs": [
        {
          "output_type": "stream",
          "text": [
            "Model: \"model\"\n",
            "__________________________________________________________________________________________________\n",
            "Layer (type)                    Output Shape         Param #     Connected to                     \n",
            "==================================================================================================\n",
            "input_2 (InputLayer)            [(None, 10000)]      0                                            \n",
            "__________________________________________________________________________________________________\n",
            "input_1 (InputLayer)            [(None, 12288)]      0                                            \n",
            "__________________________________________________________________________________________________\n",
            "dense (Dense)                   (None, 12288)        122892288   input_2[0][0]                    \n",
            "__________________________________________________________________________________________________\n",
            "concatenate (Concatenate)       (None, 24576)        0           input_1[0][0]                    \n",
            "                                                                 dense[0][0]                      \n",
            "__________________________________________________________________________________________________\n",
            "reshape (Reshape)               (None, 2, 12288, 1)  0           concatenate[0][0]                \n",
            "__________________________________________________________________________________________________\n",
            "conv (Conv2D)                   (None, 1, 12288, 1)  2           reshape[0][0]                    \n",
            "__________________________________________________________________________________________________\n",
            "flatten (Flatten)               (None, 12288)        0           conv[0][0]                       \n",
            "==================================================================================================\n",
            "Total params: 122,892,290\n",
            "Trainable params: 122,892,288\n",
            "Non-trainable params: 2\n",
            "__________________________________________________________________________________________________\n"
          ],
          "name": "stdout"
        }
      ]
    },
    {
      "cell_type": "markdown",
      "metadata": {
        "id": "QSHqpukTQ9n5"
      },
      "source": [
        "Obučićemo Diskriminator da pamti slike sa treninga:"
      ]
    },
    {
      "cell_type": "code",
      "metadata": {
        "colab": {
          "base_uri": "https://localhost:8080/",
          "height": 231
        },
        "id": "-G1jhaF33VQt",
        "outputId": "0c0ecad4-9fbe-4fb5-e59c-bef196e780dc"
      },
      "source": [
        "# TRAINING DATA\n",
        "train_y = (imagesIn[:10000,:,:,:]/255.).reshape((-1,12288))\n",
        "train_X = np.zeros((10000,10000))\n",
        "for i in range(10000): train_X[i,i] = 1\n",
        "zeros = np.zeros((10000,12288))\n",
        "\n",
        "# TRAIN NETWORK\n",
        "lr = 0.5\n",
        "for k in range(5):\n",
        "    annealer = LearningRateScheduler(lambda x: lr)\n",
        "    h = discriminator.fit([zeros,train_X], train_y, epochs = 10, batch_size=256, callbacks=[annealer], verbose=0)\n",
        "    print('Epoch',(k+1)*10,'/30 - loss =',h.history['loss'][-1] )\n",
        "    if h.history['loss'][-1]<0.533: lr = 0.1"
      ],
      "execution_count": null,
      "outputs": [
        {
          "output_type": "error",
          "ename": "NameError",
          "evalue": "ignored",
          "traceback": [
            "\u001b[0;31m---------------------------------------------------------------------------\u001b[0m",
            "\u001b[0;31mNameError\u001b[0m                                 Traceback (most recent call last)",
            "\u001b[0;32m<ipython-input-11-68b5d74ff63f>\u001b[0m in \u001b[0;36m<module>\u001b[0;34m()\u001b[0m\n\u001b[1;32m      1\u001b[0m \u001b[0;31m# TRAINING DATA\u001b[0m\u001b[0;34m\u001b[0m\u001b[0;34m\u001b[0m\u001b[0;34m\u001b[0m\u001b[0m\n\u001b[0;32m----> 2\u001b[0;31m \u001b[0mtrain_y\u001b[0m \u001b[0;34m=\u001b[0m \u001b[0;34m(\u001b[0m\u001b[0mimagesIn\u001b[0m\u001b[0;34m[\u001b[0m\u001b[0;34m:\u001b[0m\u001b[0;36m10000\u001b[0m\u001b[0;34m,\u001b[0m\u001b[0;34m:\u001b[0m\u001b[0;34m,\u001b[0m\u001b[0;34m:\u001b[0m\u001b[0;34m,\u001b[0m\u001b[0;34m:\u001b[0m\u001b[0;34m]\u001b[0m\u001b[0;34m/\u001b[0m\u001b[0;36m255.\u001b[0m\u001b[0;34m)\u001b[0m\u001b[0;34m.\u001b[0m\u001b[0mreshape\u001b[0m\u001b[0;34m(\u001b[0m\u001b[0;34m(\u001b[0m\u001b[0;34m-\u001b[0m\u001b[0;36m1\u001b[0m\u001b[0;34m,\u001b[0m\u001b[0;36m12288\u001b[0m\u001b[0;34m)\u001b[0m\u001b[0;34m)\u001b[0m\u001b[0;34m\u001b[0m\u001b[0;34m\u001b[0m\u001b[0m\n\u001b[0m\u001b[1;32m      3\u001b[0m \u001b[0mtrain_X\u001b[0m \u001b[0;34m=\u001b[0m \u001b[0mnp\u001b[0m\u001b[0;34m.\u001b[0m\u001b[0mzeros\u001b[0m\u001b[0;34m(\u001b[0m\u001b[0;34m(\u001b[0m\u001b[0;36m10000\u001b[0m\u001b[0;34m,\u001b[0m\u001b[0;36m10000\u001b[0m\u001b[0;34m)\u001b[0m\u001b[0;34m)\u001b[0m\u001b[0;34m\u001b[0m\u001b[0;34m\u001b[0m\u001b[0m\n\u001b[1;32m      4\u001b[0m \u001b[0;32mfor\u001b[0m \u001b[0mi\u001b[0m \u001b[0;32min\u001b[0m \u001b[0mrange\u001b[0m\u001b[0;34m(\u001b[0m\u001b[0;36m10000\u001b[0m\u001b[0;34m)\u001b[0m\u001b[0;34m:\u001b[0m \u001b[0mtrain_X\u001b[0m\u001b[0;34m[\u001b[0m\u001b[0mi\u001b[0m\u001b[0;34m,\u001b[0m\u001b[0mi\u001b[0m\u001b[0;34m]\u001b[0m \u001b[0;34m=\u001b[0m \u001b[0;36m1\u001b[0m\u001b[0;34m\u001b[0m\u001b[0;34m\u001b[0m\u001b[0m\n\u001b[1;32m      5\u001b[0m \u001b[0mzeros\u001b[0m \u001b[0;34m=\u001b[0m \u001b[0mnp\u001b[0m\u001b[0;34m.\u001b[0m\u001b[0mzeros\u001b[0m\u001b[0;34m(\u001b[0m\u001b[0;34m(\u001b[0m\u001b[0;36m10000\u001b[0m\u001b[0;34m,\u001b[0m\u001b[0;36m12288\u001b[0m\u001b[0;34m)\u001b[0m\u001b[0;34m)\u001b[0m\u001b[0;34m\u001b[0m\u001b[0;34m\u001b[0m\u001b[0m\n",
            "\u001b[0;31mNameError\u001b[0m: name 'imagesIn' is not defined"
          ]
        }
      ]
    },
    {
      "cell_type": "markdown",
      "metadata": {
        "id": "wqzAsr9NRQeJ"
      },
      "source": [
        "Brisanje fotografija za trening:"
      ]
    },
    {
      "cell_type": "code",
      "metadata": {
        "id": "UiLfqmDbUgx2"
      },
      "source": [
        "del train_X, train_y, imagesIn"
      ],
      "execution_count": null,
      "outputs": []
    },
    {
      "cell_type": "code",
      "metadata": {
        "id": "u-sexIu8Uh8n"
      },
      "source": [
        "print('Discriminator Recalls from Memory Dogs')    \n",
        "for k in range(5):\n",
        "    plt.figure(figsize=(15,3))\n",
        "    for j in range(5):\n",
        "        xx = np.zeros((10000))\n",
        "        xx[np.random.randint(10000)] = 1\n",
        "        plt.subplot(1,5,j+1)\n",
        "        img = discriminator.predict([zeros[0,:].reshape((-1,12288)),xx.reshape((-1,10000))]).reshape((-1,64,64,3))\n",
        "        img = Image.fromarray( (255*img).astype('uint8').reshape((64,64,3)))\n",
        "        plt.axis('off')\n",
        "        plt.imshow(img)\n",
        "    plt.show()"
      ],
      "execution_count": null,
      "outputs": []
    },
    {
      "cell_type": "markdown",
      "metadata": {
        "id": "SwgdqwJIRuJc"
      },
      "source": [
        "Kreiranje Generator i GAN\n",
        "Namerno ćemo našem generatoru dati usko grlo u njegovo sećanje. Korišćenje loše memorije primorava Generator da nauči uopštavanje slika i da ih ne pamti tačno."
      ]
    },
    {
      "cell_type": "code",
      "metadata": {
        "id": "s_nCcKfQUmqR"
      },
      "source": [
        "# BUILD GENERATOR NETWORK\n",
        "BadMemory = True\n",
        "\n",
        "if BadMemory:\n",
        "    seed = Input((10000,))\n",
        "    x = Dense(2048, activation='elu')(seed)\n",
        "    x = Reshape((8,8,32))(x)\n",
        "    x = Conv2D(128, (3, 3), activation='elu', padding='same')(x)\n",
        "    x = UpSampling2D((2, 2))(x)\n",
        "    x = Conv2D(64, (3, 3), activation='elu', padding='same')(x)\n",
        "    x = UpSampling2D((2, 2))(x)\n",
        "    x = Conv2D(32, (3, 3), activation='elu', padding='same')(x)\n",
        "    x = UpSampling2D((2, 2))(x)\n",
        "    x = Conv2D(3, (3, 3), activation='linear', padding='same')(x)\n",
        "    generated = Flatten()(x)\n",
        "else:\n",
        "    seed = Input((10000,))\n",
        "    generated = Dense(12288, activation='linear')(seed)\n",
        "\n",
        "# COMPILE\n",
        "generator = Model(seed, [generated,Reshape((10000,))(seed)])\n",
        "\n",
        "# DISPLAY ARCHITECTURE\n",
        "generator.summary()"
      ],
      "execution_count": null,
      "outputs": []
    },
    {
      "cell_type": "code",
      "metadata": {
        "id": "DDljmxLBUtfU"
      },
      "source": [
        "# BUILD GENERATIVE ADVERSARIAL NETWORK\n",
        "discriminator.trainable=False    \n",
        "gan_input = Input(shape=(10000,))\n",
        "x = generator(gan_input)\n",
        "gan_output = discriminator(x)\n",
        "\n",
        "# COMPILE GAN\n",
        "gan = Model(gan_input, gan_output)\n",
        "gan.compile(optimizer=Adam(5), loss='mean_squared_error')\n",
        "\n",
        "# DISPLAY ARCHITECTURE\n",
        "gan.summary()"
      ],
      "execution_count": null,
      "outputs": []
    },
    {
      "cell_type": "markdown",
      "metadata": {
        "id": "muvPHkRDR9BT"
      },
      "source": [
        "Discriminator uči Generator\n",
        "U tipičnom GAN-u, diskriminator prethodno ne pamti slike treninga. \n",
        "Umesto toga, on uči da razlikuje stvarne slike od lažnih slika istovremeno kada i generator uči da pravi lažne.U ovom GAN-u naučili smo Diskriminator pre vremena i on će sada naučiti Generatora."
      ]
    },
    {
      "cell_type": "code",
      "metadata": {
        "id": "daT4sVYdVYfj"
      },
      "source": [
        "# TRAINING DATA\n",
        "train = np.zeros((10000,10000))\n",
        "for i in range(10000): train[i,i] = 1\n",
        "zeros = np.zeros((10000,12288))\n",
        "\n",
        "# TRAIN NETWORKS\n",
        "ep = 1; it = 9\n",
        "if BadMemory: lr = 0.005\n",
        "else: lr = 5.\n",
        "    \n",
        "for k in range(it):  \n",
        "\n",
        "    # BEGIN DISCRIMINATOR COACHES GENERATOR\n",
        "    annealer = LearningRateScheduler(lambda x: lr)\n",
        "    h = gan.fit(train, zeros, epochs = ep, batch_size=256, callbacks=[annealer], verbose=0)\n",
        "\n",
        "    # DISPLAY GENERATOR LEARNING PROGRESS \n",
        "    print('Epoch',(k+1),'/'+str(it)+' - loss =',h.history['loss'][-1] )\n",
        "    plt.figure(figsize=(15,3))\n",
        "    for j in range(5):\n",
        "        xx = np.zeros((10000))\n",
        "        xx[np.random.randint(10000)] = 1\n",
        "        plt.subplot(1,5,j+1)\n",
        "        img = generator.predict(xx.reshape((-1,10000)))[0].reshape((-1,64,64,3))\n",
        "        img = Image.fromarray( (img).astype('uint8').reshape((64,64,3)))\n",
        "        plt.axis('off')\n",
        "        plt.imshow(img)\n",
        "    plt.show()  \n",
        "            \n",
        "    # ADJUST LEARNING RATES\n",
        "    if BadMemory:\n",
        "        ep *= 2\n",
        "        if ep>=32: lr = 0.001\n",
        "        if ep>256: ep = 256\n",
        "    else:\n",
        "        if h.history['loss'][-1] < 25: lr = 1.\n",
        "        if h.history['loss'][-1] < 1.5: lr = 0.5"
      ],
      "execution_count": null,
      "outputs": []
    },
    {
      "cell_type": "markdown",
      "metadata": {
        "id": "K-C4G2jzSR8y"
      },
      "source": [
        "Build Generator Class\n",
        "Naša generativna mreža je sada naučila sve slike sa treninga iz naših diskriminativnih mreža. Sa svojim lošim pamćenjem, nadamo se da je naučio da donekle generališe. Sada gradimo Generatorsku klasu koja prihvata bilo koji slučaj 100-dimenzionalnih vektora i daje sliku. Naša klasa će vratiti 70% jedne „memorisane“ slike pomešane sa 30% druge. Budući da su slike uskladištene u konvolucionoj mreži, nadamo se da ona generiše konceptualnu mešavinu (nasuprot mešavini piksela)."
      ]
    },
    {
      "cell_type": "code",
      "metadata": {
        "id": "8EU3l5WCOeV1"
      },
      "source": [
        "class DogGenerator:\n",
        "    index = 0   \n",
        "    def getDog(self,seed):\n",
        "        xx = np.zeros((10000))\n",
        "        xx[self.index] = 0.70\n",
        "        xx[np.random.randint(10000)] = 0.30\n",
        "        img = generator.predict(xx.reshape((-1,10000)))[0].reshape((64,64,3))\n",
        "        self.index = (self.index+1)%10000\n",
        "        return Image.fromarray( img.astype('uint8') ) "
      ],
      "execution_count": null,
      "outputs": []
    },
    {
      "cell_type": "markdown",
      "metadata": {
        "id": "KkMwfVuUS1HY"
      },
      "source": [
        "Primeri generisanih pasa:"
      ]
    },
    {
      "cell_type": "code",
      "metadata": {
        "id": "PIOD4Ed3OgsD"
      },
      "source": [
        "# DISPLAY EXAMPLE DOGS\n",
        "d = DogGenerator()\n",
        "for k in range(3):\n",
        "    plt.figure(figsize=(15,3))\n",
        "    for j in range(5):\n",
        "        plt.subplot(1,5,j+1)\n",
        "        img = d.getDog(np.random.normal(0,1,100))\n",
        "        plt.axis('off')\n",
        "        plt.imshow(img)\n",
        "    plt.show() "
      ],
      "execution_count": null,
      "outputs": []
    },
    {
      "cell_type": "code",
      "metadata": {
        "id": "ehIXkTmcTOvb"
      },
      "source": [
        "# SAVE TO ZIP FILE NAMED IMAGES.ZIP\n",
        "z = zipfile.PyZipFile('images.zip', mode='w')\n",
        "d = DogGenerator()\n",
        "for k in range(10000):\n",
        "    img = d.getDog(np.random.normal(0,1,100))\n",
        "    f = str(k)+'.png'\n",
        "    img.save(f,'PNG'); z.write(f); os.remove(f)\n",
        "    #if k % 1000==0: print(k)\n",
        "z.close()"
      ],
      "execution_count": null,
      "outputs": []
    }
  ]
}